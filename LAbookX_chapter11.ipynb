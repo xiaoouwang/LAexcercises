{
 "cells": [
  {
   "cell_type": "markdown",
   "metadata": {},
   "source": [
    "#      BOOK: Linear Algebra: Theory, Intuition, Code\n",
    "####     AUTHOR: Mike X Cohen\n",
    "####    WEBSITE: sincxpress.com\n",
    "\n",
    "##    CHAPTER: Determinant (chapter 11)"
   ]
  },
  {
   "cell_type": "code",
   "execution_count": null,
   "metadata": {},
   "outputs": [],
   "source": [
    "## import libraries for the entire chapter\n",
    "import numpy as np\n",
    "import matplotlib.pyplot as plt"
   ]
  },
  {
   "cell_type": "markdown",
   "metadata": {},
   "source": [
    "### Section 11.6, code block 11.1"
   ]
  },
  {
   "cell_type": "code",
   "execution_count": null,
   "metadata": {},
   "outputs": [],
   "source": [
    "A = np.random.randn(3,3)\n",
    "np.linalg.det(A)"
   ]
  },
  {
   "cell_type": "markdown",
   "metadata": {},
   "source": [
    "### Section 11.6, code block 11.3"
   ]
  },
  {
   "cell_type": "code",
   "execution_count": null,
   "metadata": {},
   "outputs": [],
   "source": [
    "# random matrix and vector\n",
    "A = np.random.randint(0,11,(4,4))\n",
    "b = np.random.randint(-10,1)\n",
    "\n",
    "# show their equivalence\n",
    "print(np.linalg.det(b*A),b**4*np.linalg.det(A))"
   ]
  },
  {
   "cell_type": "markdown",
   "metadata": {},
   "source": [
    "### Section 11.6, code block 11.5"
   ]
  },
  {
   "cell_type": "code",
   "execution_count": null,
   "metadata": {},
   "outputs": [],
   "source": [
    "# matrix sizes\n",
    "ns = np.arange(3,31)\n",
    "\n",
    "# iteration\n",
    "iters = 100\n",
    "\n",
    "# initialize\n",
    "dets = np.zeros((len(ns),iters))\n",
    "\n",
    "# loop over matrix sizes\n",
    "for ni in range(len(ns)):\n",
    "    for i in range(iters):\n",
    "        \n",
    "        # step 1\n",
    "        A = np.random.randn(ns[ni],ns[ni])\n",
    "        \n",
    "        # step 2\n",
    "        A[:,0] = A[:,1]\n",
    "        \n",
    "        # step 3\n",
    "        dets[ni,i]=np.abs(np.linalg.det(A))\n",
    "        \n",
    "\n",
    "# plotting\n",
    "plt.plot(ns,np.log(np.mean(dets,axis=1)))\n",
    "plt.xlabel('Matrix size')\n",
    "plt.ylabel('Log determinant')\n",
    "plt.show()"
   ]
  },
  {
   "cell_type": "code",
   "execution_count": null,
   "metadata": {},
   "outputs": [],
   "source": []
  }
 ],
 "metadata": {
  "kernelspec": {
   "display_name": "Python 3",
   "language": "python",
   "name": "python3"
  },
  "language_info": {
   "codemirror_mode": {
    "name": "ipython",
    "version": 3
   },
   "file_extension": ".py",
   "mimetype": "text/x-python",
   "name": "python",
   "nbconvert_exporter": "python",
   "pygments_lexer": "ipython3",
   "version": "3.7.4"
  }
 },
 "nbformat": 4,
 "nbformat_minor": 2
}
