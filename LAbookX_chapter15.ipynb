{
 "cells": [
  {
   "cell_type": "markdown",
   "metadata": {},
   "source": [
    "#      BOOK: Linear Algebra: Theory, Intuition, Code\n",
    "####     AUTHOR: Mike X Cohen\n",
    "####    WEBSITE: sincxpress.com\n",
    "\n",
    "##    CHAPTER: Eigendecomposition (chapter 15)\n"
   ]
  },
  {
   "cell_type": "code",
   "execution_count": null,
   "metadata": {},
   "outputs": [],
   "source": [
    "## import libraries for the entire chapter\n",
    "import numpy as np\n",
    "from scipy.linalg import eig,hankel\n",
    "import matplotlib.pyplot as plt"
   ]
  },
  {
   "cell_type": "markdown",
   "metadata": {},
   "source": [
    "### Section 15.4, code block 15.1"
   ]
  },
  {
   "cell_type": "code",
   "execution_count": null,
   "metadata": {},
   "outputs": [],
   "source": [
    "# matrix\n",
    "A = np.array([[2,3],[3,2]])\n",
    "\n",
    "# eigendecomposition\n",
    "L,V = np.linalg.eig(A)\n",
    "\n",
    "# transform eigenvalues into diagonal matrix\n",
    "L = np.diag(L)"
   ]
  },
  {
   "cell_type": "markdown",
   "metadata": {},
   "source": [
    "### Section 15.12, code block 15.4"
   ]
  },
  {
   "cell_type": "code",
   "execution_count": null,
   "metadata": {},
   "outputs": [],
   "source": [
    "# create two random matrices\n",
    "n = 3\n",
    "A = np.random.randn(n,n)\n",
    "B = np.random.randn(n,n)\n",
    "\n",
    "# note that this is scipy's eig, not numpy's\n",
    "evals,evecs = eig(A,B)"
   ]
  },
  {
   "cell_type": "markdown",
   "metadata": {},
   "source": [
    "### Section 15.16, code block 15.5"
   ]
  },
  {
   "cell_type": "code",
   "execution_count": null,
   "metadata": {},
   "outputs": [],
   "source": [
    "# initialize results vector\n",
    "avediffs = np.zeros(100)\n",
    "\n",
    "# loop over matrix sizes\n",
    "for n in range(1,101):\n",
    "    \n",
    "    # create matrices\n",
    "    A = np.random.randn(n,n)\n",
    "    B = np.random.randn(n,n)\n",
    "    \n",
    "    # GED\n",
    "    l1 = eig(A,B)[0]\n",
    "    l2 = eig(np.linalg.inv(B)@A)[0]\n",
    "\n",
    "    # important to sort eigvals\n",
    "    l1.sort()\n",
    "    l2.sort()\n",
    "    \n",
    "    # their differences\n",
    "    avediffs[n-1] = np.mean(np.abs(l1-l2))\n",
    "    \n",
    "    \n",
    "# visualize\n",
    "plt.plot(avediffs)\n",
    "plt.show()"
   ]
  },
  {
   "cell_type": "markdown",
   "metadata": {},
   "source": [
    "### Section 15.16, code block 15.7"
   ]
  },
  {
   "cell_type": "code",
   "execution_count": null,
   "metadata": {},
   "outputs": [],
   "source": [
    "# diagonal matrix\n",
    "D = np.diag(range(1,6))\n",
    "\n",
    "# eigenstuff\n",
    "L,V = np.linalg.eig(D)"
   ]
  },
  {
   "cell_type": "markdown",
   "metadata": {},
   "source": [
    "### Section 15.16, code block 15.9"
   ]
  },
  {
   "cell_type": "code",
   "execution_count": null,
   "metadata": {},
   "outputs": [],
   "source": [
    "\n",
    "# create the hankel matrix\n",
    "t = np.arange(1,51)\n",
    "lstrow = np.append(t[-1],np.arange(1,t[-1]))\n",
    "H = hankel(t,r=lstrow)\n",
    "\n",
    "# eigendecomposition\n",
    "d,V = np.linalg.eig(H)\n",
    "V = V[:,np.argsort(d)[::-1]]\n",
    "\n",
    "\n",
    "# the matrix\n",
    "plt.subplot(221) \n",
    "plt.imshow(H)\n",
    "\n",
    "# the eigenvectors\n",
    "plt.subplot(222) \n",
    "plt.imshow(V)\n",
    "\n",
    "# some evecs\n",
    "plt.subplot(212) \n",
    "plt.plot(V[:,:4])\n",
    "\n",
    "plt.show()"
   ]
  },
  {
   "cell_type": "code",
   "execution_count": null,
   "metadata": {},
   "outputs": [],
   "source": []
  }
 ],
 "metadata": {
  "kernelspec": {
   "display_name": "Python 3",
   "language": "python",
   "name": "python3"
  },
  "language_info": {
   "codemirror_mode": {
    "name": "ipython",
    "version": 3
   },
   "file_extension": ".py",
   "mimetype": "text/x-python",
   "name": "python",
   "nbconvert_exporter": "python",
   "pygments_lexer": "ipython3",
   "version": "3.7.4"
  }
 },
 "nbformat": 4,
 "nbformat_minor": 2
}
