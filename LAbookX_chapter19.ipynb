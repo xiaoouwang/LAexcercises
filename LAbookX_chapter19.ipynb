{
 "cells": [
  {
   "cell_type": "markdown",
   "metadata": {},
   "source": [
    "#      BOOK: Linear Algebra: Theory, Intuition, Code\n",
    "####     AUTHOR: Mike X Cohen\n",
    "####    WEBSITE: sincxpress.com\n",
    "\n",
    "##    CHAPTER: Principal components analysis (chapter 19)"
   ]
  },
  {
   "cell_type": "code",
   "execution_count": null,
   "metadata": {},
   "outputs": [],
   "source": [
    "## import libraries for the entire chapter\n",
    "import numpy as np\n",
    "import matplotlib.pyplot as plt"
   ]
  },
  {
   "cell_type": "markdown",
   "metadata": {},
   "source": [
    "### Section 19.7, code block 19.1"
   ]
  },
  {
   "cell_type": "code",
   "execution_count": null,
   "metadata": {},
   "outputs": [],
   "source": [
    "\n",
    "# create data\n",
    "N = 1000\n",
    "h = np.linspace(150,190,N) + np.random.randn(N)*5\n",
    "w = h*.7 - 50 + np.random.randn(N)*10\n",
    "\n",
    "# covariance\n",
    "X = np.vstack((h,w)).T\n",
    "X = X-np.mean(X,axis=0)\n",
    "C = X.T@X / (len(h)-1)\n",
    "\n",
    "# PCA\n",
    "eigvals,V = np.linalg.eig(C)\n",
    "i = np.argsort(eigvals)[::-1]\n",
    "V = V[:,i]\n",
    "eigvals = eigvals[i]\n",
    "eigvals = 100*eigvals/np.sum(eigvals)\n",
    "scores = X@V # not used, but useful code\n",
    "\n",
    "# plot data with PCs\n",
    "fig = plt.figure(figsize=(5,5))\n",
    "plt.plot(X[:,0],X[:,1],'ko')\n",
    "plt.plot([0,V[0,0]*45],[0,V[1,0]*45],'r')\n",
    "plt.plot([0,V[0,1]*25],[0,V[1,1]*25],'r')\n",
    "plt.xlabel('Height'), plt.ylabel('Weight')\n",
    "plt.axis([-50,50,-50,50])\n",
    "plt.show()"
   ]
  },
  {
   "cell_type": "markdown",
   "metadata": {},
   "source": [
    "### Section 19.7, code block 19.3"
   ]
  },
  {
   "cell_type": "code",
   "execution_count": null,
   "metadata": {},
   "outputs": [],
   "source": [
    "# re-mean-center\n",
    "X = X-np.mean(X,axis=0)\n",
    "\n",
    "# SVD\n",
    "U,s,Vv = np.linalg.svd(X) # Vv == V\n",
    "scores = X@Vv.T\n",
    "\n",
    "# convert to percent variance\n",
    "s = s**2 / (len(X)-1)\n",
    "s = 100*s/sum(s) # s == eigvals"
   ]
  },
  {
   "cell_type": "code",
   "execution_count": null,
   "metadata": {},
   "outputs": [],
   "source": []
  }
 ],
 "metadata": {
  "kernelspec": {
   "display_name": "Python 3",
   "language": "python",
   "name": "python3"
  },
  "language_info": {
   "codemirror_mode": {
    "name": "ipython",
    "version": 3
   },
   "file_extension": ".py",
   "mimetype": "text/x-python",
   "name": "python",
   "nbconvert_exporter": "python",
   "pygments_lexer": "ipython3",
   "version": "3.7.4"
  }
 },
 "nbformat": 4,
 "nbformat_minor": 2
}
