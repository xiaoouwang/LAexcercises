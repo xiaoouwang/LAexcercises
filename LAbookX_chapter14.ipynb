{
 "cells": [
  {
   "cell_type": "markdown",
   "metadata": {},
   "source": [
    "#      BOOK: Linear Algebra: Theory, Intuition, Code\n",
    "####     AUTHOR: Mike X Cohen\n",
    "####    WEBSITE: sincxpress.com\n",
    "\n",
    "##    CHAPTER: Least squares (chapter 14)"
   ]
  },
  {
   "cell_type": "code",
   "execution_count": null,
   "metadata": {},
   "outputs": [],
   "source": [
    "## import libraries for the entire chapter\n",
    "import numpy as np\n",
    "import matplotlib.pyplot as plt"
   ]
  },
  {
   "cell_type": "markdown",
   "metadata": {},
   "source": [
    "### Section 14.10, code block 14.1"
   ]
  },
  {
   "cell_type": "code",
   "execution_count": null,
   "metadata": {},
   "outputs": [],
   "source": [
    "# load the data\n",
    "data = np.loadtxt(fname='widget_data.txt',delimiter=',')\n",
    "\n",
    "# design matrix\n",
    "X = np.concatenate((np.ones((1000,1)),data[:,:2]),axis=1)\n",
    "\n",
    "# outcome variable\n",
    "y = data[:,2]\n",
    "\n",
    "# beta coefficients\n",
    "beta = np.linalg.lstsq(X,y)[0]\n",
    "\n",
    "# scaled coefficients (intercept not scaled)\n",
    "betaScaled = beta/np.std(X,axis=0,ddof=1)"
   ]
  },
  {
   "cell_type": "markdown",
   "metadata": {},
   "source": [
    "### Section 14.10, code block 14.3"
   ]
  },
  {
   "cell_type": "code",
   "execution_count": null,
   "metadata": {},
   "outputs": [],
   "source": [
    "# setup the figure\n",
    "fig,ax = plt.subplots(1,2,figsize=(8,4))\n",
    "\n",
    "# plot widgets by time\n",
    "ax[0].plot(X[:,1],y,'o',markerfacecolor='k')\n",
    "ax[0].set_title('Time variable')\n",
    "ax[0].set_xlabel('Time of day')\n",
    "ax[0].set_ylabel('Widgets purchased')\n",
    "\n",
    "# plot widgets by age\n",
    "ax[1].plot(X[:,2],y,'o',markerfacecolor='k')\n",
    "ax[1].set_title('Age variable')\n",
    "ax[1].set_xlabel('Age')\n",
    "ax[1].set_ylabel('Widgets purchased')\n",
    "plt.show()"
   ]
  },
  {
   "cell_type": "markdown",
   "metadata": {},
   "source": [
    "### Section 14.10, code block 14.5"
   ]
  },
  {
   "cell_type": "code",
   "execution_count": null,
   "metadata": {},
   "outputs": [],
   "source": [
    "# predicted data\n",
    "yHat = X@beta\n",
    "\n",
    "# r-squared\n",
    "r2 = 1 - np.sum((yHat-y)**2) / np.sum((y-np.mean(y))**2)\n",
    "r2"
   ]
  },
  {
   "cell_type": "code",
   "execution_count": null,
   "metadata": {},
   "outputs": [],
   "source": []
  }
 ],
 "metadata": {
  "kernelspec": {
   "display_name": "Python 3",
   "language": "python",
   "name": "python3"
  },
  "language_info": {
   "codemirror_mode": {
    "name": "ipython",
    "version": 3
   },
   "file_extension": ".py",
   "mimetype": "text/x-python",
   "name": "python",
   "nbconvert_exporter": "python",
   "pygments_lexer": "ipython3",
   "version": "3.7.4"
  }
 },
 "nbformat": 4,
 "nbformat_minor": 2
}
