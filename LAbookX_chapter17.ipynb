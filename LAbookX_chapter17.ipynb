{
 "cells": [
  {
   "cell_type": "markdown",
   "metadata": {},
   "source": [
    "#      BOOK: Linear Algebra: Theory, Intuition, Code\n",
    "####     AUTHOR: Mike X Cohen\n",
    "####    WEBSITE: sincxpress.com\n",
    "\n",
    "##    CHAPTER: Quadratic form and definiteness (chapter 17)"
   ]
  },
  {
   "cell_type": "code",
   "execution_count": null,
   "metadata": {},
   "outputs": [],
   "source": [
    "## import libraries for the entire chapter\n",
    "import numpy as np\n",
    "import matplotlib.pyplot as plt\n",
    "from mpl_toolkits.mplot3d import Axes3D"
   ]
  },
  {
   "cell_type": "markdown",
   "metadata": {},
   "source": [
    "### Section 17.1, code block 17.1"
   ]
  },
  {
   "cell_type": "code",
   "execution_count": null,
   "metadata": {},
   "outputs": [],
   "source": [
    "# matrix size\n",
    "m = 4\n",
    "\n",
    "# a matrix and a row vector\n",
    "A = np.random.randn(m,m)\n",
    "v = np.random.randn(1,m)\n",
    "\n",
    "# quadratic form for this vector-matrix pair\n",
    "v@A@v.T\n"
   ]
  },
  {
   "cell_type": "markdown",
   "metadata": {},
   "source": [
    "### Section 17.9, code block 17.3"
   ]
  },
  {
   "cell_type": "code",
   "execution_count": null,
   "metadata": {},
   "outputs": [],
   "source": [
    "# matrix\n",
    "A = np.array([[-2,3],[2,8]])\n",
    "\n",
    "# range of vector elements\n",
    "vi = np.linspace(-2,2,30) \n",
    "\n",
    "# initialize\n",
    "qf = np.zeros((len(vi),len(vi)))\n",
    "\n",
    "# for the visualization\n",
    "X,Y = np.meshgrid(vi,vi)\n",
    "\n",
    "for i in range(len(vi)):\n",
    "    for j in range(len(vi)):\n",
    "        \n",
    "        # this vector\n",
    "        v = np.array([ vi[i],vi[j] ])\n",
    "        \n",
    "        # QF (note the normalization term)\n",
    "        qf[i,j] = v.T@A@v / (v.T@v)\n",
    "\n",
    "\n",
    "# setup the figure\n",
    "ax = plt.axes(projection='3d')\n",
    "\n",
    "# plot a surface\n",
    "ax.plot_surface(X, Y, qf.T)\n",
    "ax.set_xlabel('v_1'), ax.set_ylabel('v_2')\n",
    "ax.set_zlabel('$\\zeta$')\n",
    "plt.show()"
   ]
  },
  {
   "cell_type": "markdown",
   "metadata": {},
   "source": [
    "### Section 17.9, code block 17.5"
   ]
  },
  {
   "cell_type": "code",
   "execution_count": null,
   "metadata": {},
   "outputs": [],
   "source": [
    "# initializations\n",
    "n = 4 # matrix size\n",
    "nIterations = 500 # number of matrices\n",
    "defcat = np.zeros(nIterations) # results\n",
    "\n",
    "\n",
    "# loop over matrices\n",
    "for iteri in range(nIterations):\n",
    " \n",
    "    # keep creating a matrix until it has real-valued evals\n",
    "    A = np.random.randint(-10,11,size=(n,n))\n",
    "    e = np.linalg.eig(A)[0]\n",
    "    while ~np.all(np.isreal(e)):\n",
    "        A = np.random.randint(-10,11,size=(n,n))\n",
    "        e = np.linalg.eig(A)[0]\n",
    "      \n",
    "    # \"zero\" threshold (from rank)\n",
    "    t = n*np.spacing(np.max(np.linalg.svd(A)[1]))\n",
    "    \n",
    "    \n",
    "    # test definiteness\n",
    "    if np.all(np.sign(e)==1):\n",
    "        defcat[iteri] = 1 # pos. def\n",
    "    elif np.all(np.sign(e)>-1)&sum(abs(e)<t)>0:\n",
    "        defcat[iteri] = 2 # pos. semidef\n",
    "    elif np.all(np.sign(e)<1)&sum(abs(e)<t)>0:\n",
    "        defcat[iteri] = 4 # neg. semidef\n",
    "    elif np.all(np.sign(e)==-1):\n",
    "        defcat[iteri] = 5 # neg. def\n",
    "    else:\n",
    "        defcat[iteri] = 3 # indefinite\n",
    "\n",
    "    \n",
    "    \n",
    "# print out summary\n",
    "for i in range(1,6):\n",
    "    print('cat %g: %g'%(i,sum(defcat==i)))"
   ]
  },
  {
   "cell_type": "code",
   "execution_count": null,
   "metadata": {},
   "outputs": [],
   "source": []
  }
 ],
 "metadata": {
  "kernelspec": {
   "display_name": "Python 3",
   "language": "python",
   "name": "python3"
  },
  "language_info": {
   "codemirror_mode": {
    "name": "ipython",
    "version": 3
   },
   "file_extension": ".py",
   "mimetype": "text/x-python",
   "name": "python",
   "nbconvert_exporter": "python",
   "pygments_lexer": "ipython3",
   "version": "3.7.4"
  }
 },
 "nbformat": 4,
 "nbformat_minor": 2
}
