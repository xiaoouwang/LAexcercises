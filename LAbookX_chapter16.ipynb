{
 "cells": [
  {
   "cell_type": "markdown",
   "metadata": {},
   "source": [
    "#      BOOK: Linear Algebra: Theory, Intuition, Code\n",
    "####     AUTHOR: Mike X Cohen\n",
    "####    WEBSITE: sincxpress.com\n",
    "\n",
    "##    CHAPTER: Singular value decomposition (chapter 16)\n"
   ]
  },
  {
   "cell_type": "code",
   "execution_count": null,
   "metadata": {},
   "outputs": [],
   "source": [
    "## import libraries for the entire chapter\n",
    "import numpy as np\n",
    "import matplotlib.pyplot as plt\n",
    "from imageio import imread\n",
    "from scipy.linalg import eig"
   ]
  },
  {
   "cell_type": "markdown",
   "metadata": {},
   "source": [
    "### Section 16.3, code block 16.1"
   ]
  },
  {
   "cell_type": "code",
   "execution_count": null,
   "metadata": {},
   "outputs": [],
   "source": [
    "# A matrix\n",
    "A = [[1,1,0],[0,1,1]]\n",
    "\n",
    "# its SVD\n",
    "U,s,V = np.linalg.svd(A)"
   ]
  },
  {
   "cell_type": "markdown",
   "metadata": {},
   "source": [
    "### Section 16.10, code block 16.3"
   ]
  },
  {
   "cell_type": "code",
   "execution_count": null,
   "metadata": {},
   "outputs": [],
   "source": [
    "# a matrix\n",
    "A = np.random.randn(5,5)\n",
    "\n",
    "# its singular values\n",
    "s = np.linalg.svd(A)[1]\n",
    "\n",
    "# \"manual\" condition number\n",
    "condnum = np.max(s)/np.min(s)\n",
    "\n",
    "# compare above with numpy's cond()\n",
    "print(condnum,np.linalg.cond(A))"
   ]
  },
  {
   "cell_type": "markdown",
   "metadata": {},
   "source": [
    "### Section 16.14, code block 16.5"
   ]
  },
  {
   "cell_type": "code",
   "execution_count": null,
   "metadata": {},
   "outputs": [],
   "source": [
    "# the matrix\n",
    "m = 6\n",
    "n = 3\n",
    "A = np.random.randn(m,n)\n",
    "\n",
    "# the two SVDs\n",
    "Uf,sf,Vf = np.linalg.svd(A)\n",
    "Ue,se,Ve = np.linalg.svd(A,full_matrices=False)\n",
    "\n",
    "# examine sizes of matrices from full SVD\n",
    "print(Uf.shape, sf.shape, Vf.shape)\n",
    "\n",
    "# and from economy\n",
    "print(Ue.shape, se.shape, Ve.shape)"
   ]
  },
  {
   "cell_type": "markdown",
   "metadata": {},
   "source": [
    "### Section 16.14, code block 16.7"
   ]
  },
  {
   "cell_type": "code",
   "execution_count": null,
   "metadata": {},
   "outputs": [],
   "source": [
    "# matrix\n",
    "A = np.random.randn(4,5)\n",
    "\n",
    "# get V\n",
    "L2,V = np.linalg.eig(A.T@A) \n",
    "# sort by descending eigenvalues\n",
    "V = V[:,np.argsort(L2)[::-1]]\n",
    "\n",
    "# get U\n",
    "L2,U = np.linalg.eig(A@A.T) \n",
    "# sort by descending eigenvalues\n",
    "U = U[:,np.argsort(L2)[::-1]]\n",
    "\n",
    "# create Sigma\n",
    "S = np.zeros(A.shape)\n",
    "for i,s in enumerate(np.sort(L2)[::-1]):\n",
    "    S[i,i] = np.sqrt(s)\n",
    "\n",
    "# now get the SVD    \n",
    "U2,S2,V2 = np.linalg.svd(A)"
   ]
  },
  {
   "cell_type": "markdown",
   "metadata": {},
   "source": [
    "### Section 16.14, code block 16.9"
   ]
  },
  {
   "cell_type": "code",
   "execution_count": null,
   "metadata": {},
   "outputs": [],
   "source": [
    "# setup the figure\n",
    "fig,ax = plt.subplots(2,4)\n",
    "\n",
    "# create the matrix and get its SVD\n",
    "A = np.random.randn(5,3)\n",
    "U,s,V = np.linalg.svd(A)\n",
    "S = np.diag(s) # need Sigma as matrix\n",
    "\n",
    "# loop over layers\n",
    "for i in range(3):\n",
    "    \n",
    "    # compute and show one layer\n",
    "    onelayer = np.outer(U[:,i],V[i,:])*s[i]\n",
    "    ax[0,i].imshow(onelayer)\n",
    "    ax[0,i].set_title('Layer %g'%i)\n",
    "    ax[0,i].axis('off')\n",
    "    \n",
    "    # compute the low-rank approximation up to this layer\n",
    "    lowrank = U[:,:i+1]@S[:i+1,:i+1]@V[:i+1,:]\n",
    "    ax[1,i].imshow(lowrank)\n",
    "    ax[1,i].set_title('Layers 0:%g'%i)\n",
    "    ax[1,i].axis('off')\n",
    "    \n",
    "\n",
    "# finally, show the original matrix\n",
    "ax[1,3].imshow(A)\n",
    "ax[1,3].set_title('Orig. A')\n",
    "ax[1,3].axis('off')\n",
    "ax[0,3].axis('off')\n",
    "plt.show()"
   ]
  },
  {
   "cell_type": "markdown",
   "metadata": {},
   "source": [
    "### Section 16.14, code block 16.11"
   ]
  },
  {
   "cell_type": "code",
   "execution_count": null,
   "metadata": {},
   "outputs": [],
   "source": [
    "# matrix sizes\n",
    "m = 6\n",
    "n = 16\n",
    "\n",
    "# desired condition number\n",
    "condnum = 42\n",
    "\n",
    "# create U and V from random numbers\n",
    "U,r = np.linalg.qr( np.random.randn(m,m) )\n",
    "V,r = np.linalg.qr( np.random.randn(n,n) )\n",
    "\n",
    "# create singular values vector\n",
    "s = np.linspace(condnum,1,np.min((m,n)))\n",
    "S = np.zeros((m,n))\n",
    "for i in range(min((m,n))):\n",
    "    S[i,i] = s[i]\n",
    "\n",
    "# construct matrix\n",
    "A = U@S@V.T \n",
    "\n",
    "# confirm!\n",
    "np.linalg.cond(A) "
   ]
  },
  {
   "cell_type": "markdown",
   "metadata": {},
   "source": [
    "### Section 16.14, code block 16.13"
   ]
  },
  {
   "cell_type": "code",
   "execution_count": null,
   "metadata": {},
   "outputs": [],
   "source": [
    "# download picture and convert to float\n",
    "pic = imread('https://upload.wikimedia.org/wikipedia/en/8/86/Einstein_tongue.jpg')\n",
    "np.array(pic,dtype=float)\n",
    "\n",
    "# SVD and create sigma matrix\n",
    "U,s,V = np.linalg.svd( pic )\n",
    "S = np.zeros(pic.shape)\n",
    "for i in range(len(s)):\n",
    "    S[i,i] = s[i]\n",
    "\n",
    "# number of components to use\n",
    "comps = slice(0,21) \n",
    "\n",
    "# create the low-rank approx.\n",
    "lowrank = U[:,comps]@S[comps,comps]@V[comps,:]\n",
    "\n",
    "\n",
    "# show the original and low-rank\n",
    "plt.subplot(1,2,1)\n",
    "plt.imshow(pic,cmap='gray')\n",
    "plt.title('Original')\n",
    "plt.subplot(1,2,2)\n",
    "plt.imshow(lowrank,cmap='gray')\n",
    "plt.title('Comps. %g-%g'%(comps.start,comps.stop-1));"
   ]
  },
  {
   "cell_type": "markdown",
   "metadata": {},
   "source": [
    "### Section 16.14, code block 16.15"
   ]
  },
  {
   "cell_type": "code",
   "execution_count": null,
   "metadata": {},
   "outputs": [],
   "source": [
    "# convert to percent explained\n",
    "s = 100*s/np.sum(s)\n",
    "\n",
    "# visualize\n",
    "plt.plot(s,'s-')\n",
    "plt.xlim([0,100])\n",
    "plt.xlabel('Component number')\n",
    "plt.ylabel('Pct variance explains')\n",
    "plt.show()\n",
    "\n",
    "\n",
    "# threshold in percent\n",
    "thresh = 4 \n",
    "I,J=np.ix_(s>thresh,s>thresh) # comps > X%\n",
    "lowrank = np.squeeze(U[:,J]@S[I,J]@V[J,:])\n",
    "\n",
    "\n",
    "# show the original and low-rank\n",
    "plt.subplot(1,2,1)\n",
    "plt.imshow(pic,cmap='gray')\n",
    "plt.title('Original')\n",
    "plt.subplot(1,2,2)\n",
    "plt.imshow(lowrank,cmap='gray')\n",
    "plt.title('%g comps. at %g%%'%(len(I),thresh));"
   ]
  },
  {
   "cell_type": "markdown",
   "metadata": {},
   "source": [
    "### Section 16.14, code block 16.17"
   ]
  },
  {
   "cell_type": "code",
   "execution_count": null,
   "metadata": {},
   "outputs": [],
   "source": [
    "# initialize RMS vector\n",
    "RMS = np.zeros(len(s))\n",
    "\n",
    "# loop through singular values (SVD layers)\n",
    "for si in range(len(s)):\n",
    "    \n",
    "    # create the low-rank img\n",
    "    i = si+1 # mind the indexing!\n",
    "    lowrank = U[:,:i]@S[:i,:i]@V[:i,:]\n",
    "    \n",
    "    # get the difference\n",
    "    diffimg = lowrank - pic\n",
    "    \n",
    "    # compute RMS for this rank\n",
    "    RMS[si] = np.sqrt(np.mean(diffimg.flatten()**2))\n",
    "\n",
    "    \n",
    "# how's it look?!?\n",
    "plt.plot(RMS,'s-')\n",
    "plt.xlabel('Rank approximation')\n",
    "plt.ylabel('Error (a.u.)')\n",
    "plt.show()"
   ]
  },
  {
   "cell_type": "markdown",
   "metadata": {},
   "source": [
    "### Section 16.14, code block 16.19"
   ]
  },
  {
   "cell_type": "code",
   "execution_count": null,
   "metadata": {},
   "outputs": [],
   "source": [
    "# some random tall matrix\n",
    "X = np.random.randint(low=1,high=7,size=(4,2))\n",
    "\n",
    "# eq. 29\n",
    "U,s,V = np.linalg.svd(X) \n",
    "S = np.zeros(X.shape)\n",
    "for i,ss in enumerate(s):\n",
    "    S[i,i] = ss\n",
    "\n",
    "# eq. 30\n",
    "longV1 = np.linalg.inv( (U@S@V).T@U@S@V ) @ (U@S@V).T\n",
    "\n",
    "# eq. 31\n",
    "longV2 = np.linalg.inv( V.T@S.T@U.T@U@S@V ) @ (U@S@V).T\n",
    "\n",
    "# eq. 32\n",
    "longV3 = np.linalg.inv(V.T@S.T@S@V) @ (U@S@V).T\n",
    "\n",
    "# eq. 33\n",
    "longV4 = V@np.linalg.matrix_power(S.T@S,-1) @ V@V.T@S.T@U.T\n",
    "\n",
    "# eq. 34\n",
    "MPpinv = np.linalg.pinv(X)\n",
    "\n",
    "# now compare any to pinv, e.g.,\n",
    "longV3 - MPpinv"
   ]
  },
  {
   "cell_type": "markdown",
   "metadata": {},
   "source": [
    "### Section 16.14, code block 16.21"
   ]
  },
  {
   "cell_type": "code",
   "execution_count": null,
   "metadata": {},
   "outputs": [],
   "source": [
    "k = 5\n",
    "n = 13\n",
    "a = np.linalg.pinv(np.ones((n,1))*k)\n",
    "\n",
    "# check for zeros\n",
    "a - 1/(k*n)"
   ]
  },
  {
   "cell_type": "markdown",
   "metadata": {},
   "source": [
    "### Section 16.14, code block 16.23"
   ]
  },
  {
   "cell_type": "code",
   "execution_count": null,
   "metadata": {},
   "outputs": [],
   "source": [
    "# matrix size\n",
    "M = 10 \n",
    "\n",
    "# condition numbers\n",
    "cns = np.linspace(10,1e10,30)\n",
    "\n",
    "# results vector\n",
    "avediffs = np.zeros(len(cns))\n",
    "\n",
    "# loop over condition numbers\n",
    "for condi in range(len(cns)):\n",
    "    \n",
    "    # create A\n",
    "    U,r = np.linalg.qr( np.random.randn(M,M) )\n",
    "    V,r = np.linalg.qr( np.random.randn(M,M) )\n",
    "    S = np.diag(np.linspace(cns[condi],1,M))\n",
    "    A = U@S@V.T # construct matrix  \n",
    "  \n",
    "    # create B\n",
    "    U,r = np.linalg.qr( np.random.randn(M,M) )\n",
    "    V,r = np.linalg.qr( np.random.randn(M,M) )\n",
    "    S = np.diag(np.linspace(cns[condi],1,M))\n",
    "    B = U@S@V.T # construct matrix\n",
    "  \n",
    "    # GEDs and sort\n",
    "    l1 = eig(A,B)[0]\n",
    "    l2 = eig(np.linalg.inv(B)@A)[0]\n",
    "    l1.sort()\n",
    "    l2.sort()\n",
    "  \n",
    "    # get differences\n",
    "    avediffs[condi] = np.mean(np.abs(l1-l2))\n",
    "\n",
    "# plot them!\n",
    "plt.plot(cns,avediffs)\n",
    "plt.show()"
   ]
  }
 ],
 "metadata": {
  "kernelspec": {
   "display_name": "Python 3",
   "language": "python",
   "name": "python3"
  },
  "language_info": {
   "codemirror_mode": {
    "name": "ipython",
    "version": 3
   },
   "file_extension": ".py",
   "mimetype": "text/x-python",
   "name": "python",
   "nbconvert_exporter": "python",
   "pygments_lexer": "ipython3",
   "version": "3.7.4"
  }
 },
 "nbformat": 4,
 "nbformat_minor": 2
}
