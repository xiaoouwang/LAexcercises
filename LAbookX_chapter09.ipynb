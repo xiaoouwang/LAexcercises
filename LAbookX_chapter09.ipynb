{
 "cells": [
  {
   "cell_type": "markdown",
   "metadata": {},
   "source": [
    "#      BOOK: Linear Algebra: Theory, Intuition, Code\n",
    "####     AUTHOR: Mike X Cohen\n",
    "####    WEBSITE: sincxpress.com\n",
    "\n",
    "##    CHAPTER: Complex numbers (chapter 9)\n"
   ]
  },
  {
   "cell_type": "code",
   "execution_count": null,
   "metadata": {},
   "outputs": [],
   "source": [
    "## import libraries for the entire chapter\n",
    "import numpy as np"
   ]
  },
  {
   "cell_type": "markdown",
   "metadata": {},
   "source": [
    "### Section 9.2, code block 9.1"
   ]
  },
  {
   "cell_type": "code",
   "execution_count": null,
   "metadata": {},
   "outputs": [],
   "source": [
    "# one way to create a complex number\n",
    "z = np.complex(3,4)\n",
    "\n",
    "# note the datatype input\n",
    "Z = np.zeros(2,dtype=complex)\n",
    "Z[0] = 3+4j"
   ]
  },
  {
   "cell_type": "markdown",
   "metadata": {},
   "source": [
    "### Section 9.3, code block 9.3"
   ]
  },
  {
   "cell_type": "code",
   "execution_count": null,
   "metadata": {},
   "outputs": [],
   "source": [
    "# real numbers for the matrix\n",
    "r = np.random.randint(-3,4,size=3) # real part\n",
    "i = np.random.randint(-3,4,size=3) # imag part\n",
    "\n",
    "# create a complex matrix\n",
    "Z = r + i*1j\n",
    "\n",
    "# print the matrix and its transpose\n",
    "print(Z)\n",
    "print(Z.conj())"
   ]
  },
  {
   "cell_type": "markdown",
   "metadata": {},
   "source": [
    "### Section 9.5, code block 9.5"
   ]
  },
  {
   "cell_type": "code",
   "execution_count": null,
   "metadata": {},
   "outputs": [],
   "source": [
    "v = [0,1j]\n",
    "\n",
    "# \"normal\" and hermitian dot product\n",
    "print(np.dot(v,v))\n",
    "print(np.vdot(v,v))"
   ]
  },
  {
   "cell_type": "markdown",
   "metadata": {},
   "source": [
    "### Section 9.10, code block 9.7"
   ]
  },
  {
   "cell_type": "code",
   "execution_count": null,
   "metadata": {},
   "outputs": [],
   "source": [
    "U = .5*np.array([ [1+1j,1-1j],[1-1j,1+1j] ])\n",
    "\n",
    "# Hermitian\n",
    "print(U@np.matrix(U).H) \n",
    "\n",
    "# not Hermitian\n",
    "U@U.T"
   ]
  },
  {
   "cell_type": "markdown",
   "metadata": {},
   "source": [
    "### Section 9.10, code block 9.9"
   ]
  },
  {
   "cell_type": "code",
   "execution_count": null,
   "metadata": {},
   "outputs": [],
   "source": [
    "# create a complex matrix\n",
    "r = np.random.randn(3,3)\n",
    "i = np.random.randn(3,3)\n",
    "A = np.matrix( r + i*1j )\n",
    "\n",
    "# new matrices by adding and multiplying\n",
    "A1 = A+A.H\n",
    "A2 = A@A.H\n",
    "\n",
    "# test for Hermitian\n",
    "print(A1-A1.H)\n",
    "print(A2-A2.H)"
   ]
  },
  {
   "cell_type": "code",
   "execution_count": null,
   "metadata": {},
   "outputs": [],
   "source": []
  }
 ],
 "metadata": {
  "kernelspec": {
   "display_name": "Python 3",
   "language": "python",
   "name": "python3"
  },
  "language_info": {
   "codemirror_mode": {
    "name": "ipython",
    "version": 3
   },
   "file_extension": ".py",
   "mimetype": "text/x-python",
   "name": "python",
   "nbconvert_exporter": "python",
   "pygments_lexer": "ipython3",
   "version": "3.7.4"
  }
 },
 "nbformat": 4,
 "nbformat_minor": 2
}
