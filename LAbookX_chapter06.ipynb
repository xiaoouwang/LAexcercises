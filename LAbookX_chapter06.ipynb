{
 "cells": [
  {
   "cell_type": "markdown",
   "metadata": {},
   "source": [
    "#      BOOK: Linear Algebra: Theory, Intuition, Code\n",
    "####     AUTHOR: Mike X Cohen\n",
    "####    WEBSITE: sincxpress.com\n",
    "\n",
    "##    CHAPTER: Matrix multiplications (chapter 6)\n"
   ]
  },
  {
   "cell_type": "code",
   "execution_count": null,
   "metadata": {},
   "outputs": [],
   "source": [
    "## import libraries for the entire chapter\n",
    "import numpy as np"
   ]
  },
  {
   "cell_type": "markdown",
   "metadata": {},
   "source": [
    "### Section 6.1, code block 6.1"
   ]
  },
  {
   "cell_type": "code",
   "execution_count": null,
   "metadata": {},
   "outputs": [],
   "source": [
    "# two matrices\n",
    "M1 = np.random.randn(4,3)\n",
    "M2 = np.random.randn(3,5)\n",
    "\n",
    "# and their product\n",
    "C = M1 @ M2"
   ]
  },
  {
   "cell_type": "markdown",
   "metadata": {},
   "source": [
    "### Section 6.2, code block 6.3"
   ]
  },
  {
   "cell_type": "code",
   "execution_count": null,
   "metadata": {},
   "outputs": [],
   "source": [
    "A = np.random.randn(2,2)\n",
    "B = np.random.randn(2,2)\n",
    "\n",
    "# notice that C1 != C2\n",
    "C1 = A@B\n",
    "C2 = B@A"
   ]
  },
  {
   "cell_type": "markdown",
   "metadata": {},
   "source": [
    "### Section 6.8, code block 6.5"
   ]
  },
  {
   "cell_type": "code",
   "execution_count": null,
   "metadata": {},
   "outputs": [],
   "source": [
    "M1 = np.random.randn(4,3)\n",
    "M2 = np.random.randn(4,3)\n",
    "C = M1 * M2 # note the * instead of @"
   ]
  },
  {
   "cell_type": "markdown",
   "metadata": {},
   "source": [
    "### Section 6.9, code block 6.7"
   ]
  },
  {
   "cell_type": "code",
   "execution_count": null,
   "metadata": {},
   "outputs": [],
   "source": [
    "A = np.array([ [1,2,3],[4,5,6] ])\n",
    "A.flatten(order='F')"
   ]
  },
  {
   "cell_type": "markdown",
   "metadata": {},
   "source": [
    "### Section 6.9, code block 6.9"
   ]
  },
  {
   "cell_type": "code",
   "execution_count": null,
   "metadata": {},
   "outputs": [],
   "source": [
    "A = np.random.randn(4,3)\n",
    "B = np.random.randn(4,3)\n",
    "\n",
    "# the transpose-trace trick for the frobenius dot product\n",
    "f = np.trace(A.T@B)"
   ]
  },
  {
   "cell_type": "markdown",
   "metadata": {},
   "source": [
    "### Section 6.10, code block 6.11"
   ]
  },
  {
   "cell_type": "code",
   "execution_count": null,
   "metadata": {},
   "outputs": [],
   "source": [
    "A = np.random.randn(4,3)\n",
    "np.linalg.norm(A,'fro')"
   ]
  },
  {
   "cell_type": "markdown",
   "metadata": {},
   "source": [
    "### Section 6.15, code block 6.13"
   ]
  },
  {
   "cell_type": "code",
   "execution_count": null,
   "metadata": {},
   "outputs": [],
   "source": [
    "# two matrices\n",
    "A = np.random.randn(2,4)\n",
    "B = np.random.randn(4,3)\n",
    "\n",
    "# initialize product\n",
    "C1 = np.zeros((2,3))\n",
    "\n",
    "# sum over columns\n",
    "for i in range(4):\n",
    "    C1 += np.outer(A[:,i],B[i,:])\n",
    "\n",
    "# show equality\n",
    "C1 - A@B "
   ]
  },
  {
   "cell_type": "markdown",
   "metadata": {},
   "source": [
    "### Section 6.15, code block 6.15"
   ]
  },
  {
   "cell_type": "code",
   "execution_count": null,
   "metadata": {},
   "outputs": [],
   "source": [
    "# a diagonal matrix and a full one\n",
    "D = np.diag(np.arange(1,5))\n",
    "A = np.random.randn(4,4)\n",
    "\n",
    "# two kinds of products\n",
    "C1 = D*A\n",
    "C2 = D@A\n",
    "\n",
    "# are they the same?\n",
    "print(np.diag(C1))\n",
    "print(np.diag(C2))"
   ]
  },
  {
   "cell_type": "markdown",
   "metadata": {},
   "source": [
    "### Section 6.15, code block 6.17"
   ]
  },
  {
   "cell_type": "code",
   "execution_count": null,
   "metadata": {},
   "outputs": [],
   "source": [
    "# diagonal matrix\n",
    "A = np.diag(np.random.rand(3))\n",
    "\n",
    "# two symmetric matrices\n",
    "C1 = (A.T+A)/2\n",
    "C2 = A.T@A\n",
    "\n",
    "# are they the same?\n",
    "C1-np.sqrt(C2)"
   ]
  },
  {
   "cell_type": "markdown",
   "metadata": {},
   "source": [
    "### Section 6.15, code block 6.19"
   ]
  },
  {
   "cell_type": "code",
   "execution_count": null,
   "metadata": {},
   "outputs": [],
   "source": [
    "# a matrix and a vector (walk into a bar...)\n",
    "m = 5\n",
    "A = np.random.randn(m,m)\n",
    "v = np.random.randn(m)\n",
    "\n",
    "# the two sides of the equation\n",
    "LHS = np.linalg.norm(A@v)\n",
    "RHS = np.linalg.norm(A,ord='fro') * np.linalg.norm(v)\n",
    "\n",
    "# should always be positive\n",
    "RHS-LHS "
   ]
  },
  {
   "cell_type": "code",
   "execution_count": null,
   "metadata": {},
   "outputs": [],
   "source": []
  }
 ],
 "metadata": {
  "kernelspec": {
   "display_name": "Python 3",
   "language": "python",
   "name": "python3"
  },
  "language_info": {
   "codemirror_mode": {
    "name": "ipython",
    "version": 3
   },
   "file_extension": ".py",
   "mimetype": "text/x-python",
   "name": "python",
   "nbconvert_exporter": "python",
   "pygments_lexer": "ipython3",
   "version": "3.7.4"
  }
 },
 "nbformat": 4,
 "nbformat_minor": 2
}
