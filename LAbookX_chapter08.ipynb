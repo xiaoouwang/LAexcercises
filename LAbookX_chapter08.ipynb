{
 "cells": [
  {
   "cell_type": "markdown",
   "metadata": {},
   "source": [
    "#      BOOK: Linear Algebra: Theory, Intuition, Code\n",
    "####     AUTHOR: Mike X Cohen\n",
    "####    WEBSITE: sincxpress.com\n",
    "\n",
    "##    CHAPTER: Matrix spaces (chapter 8)\n"
   ]
  },
  {
   "cell_type": "code",
   "execution_count": null,
   "metadata": {},
   "outputs": [],
   "source": [
    "## import libraries for the entire chapter\n",
    "import numpy as np\n",
    "from scipy.linalg import null_space"
   ]
  },
  {
   "cell_type": "markdown",
   "metadata": {},
   "source": [
    "### Section 8.7, code block 8.1"
   ]
  },
  {
   "cell_type": "code",
   "execution_count": null,
   "metadata": {},
   "outputs": [],
   "source": [
    "A = np.random.randn(3,4)\n",
    "\n",
    "# the null space\n",
    "null_space(A)"
   ]
  },
  {
   "cell_type": "markdown",
   "metadata": {},
   "source": [
    "### Section 8.15, code block 8.3"
   ]
  },
  {
   "cell_type": "code",
   "execution_count": null,
   "metadata": {},
   "outputs": [],
   "source": [
    "# reduced-rank matrices\n",
    "A = np.random.randn(4,3)@np.random.randn(3,4)\n",
    "B = np.random.randn(4,3)@np.random.randn(3,4)\n",
    "\n",
    "# null space of A\n",
    "n = null_space(A)\n",
    "\n",
    "# zeros vector\n",
    "print(B@A@n) \n",
    "\n",
    "# not zeros vector\n",
    "print(A@B@n) "
   ]
  },
  {
   "cell_type": "markdown",
   "metadata": {},
   "source": [
    "### Section 8.15, code block 8.5"
   ]
  },
  {
   "cell_type": "code",
   "execution_count": null,
   "metadata": {},
   "outputs": [],
   "source": [
    "# a reduced-rank matrix\n",
    "A = np.random.randn(16,9) @ np.random.randn(9,11)\n",
    "\n",
    "# null spaces\n",
    "rn = null_space(A)\n",
    "ln = null_space(A.T)\n",
    "r  = np.linalg.matrix_rank(A)\n",
    "\n",
    "# dimensionalities\n",
    "print(rn.shape[1]+r)\n",
    "print(ln.shape[1]+r)"
   ]
  }
 ],
 "metadata": {
  "kernelspec": {
   "display_name": "Python 3",
   "language": "python",
   "name": "python3"
  },
  "language_info": {
   "codemirror_mode": {
    "name": "ipython",
    "version": 3
   },
   "file_extension": ".py",
   "mimetype": "text/x-python",
   "name": "python",
   "nbconvert_exporter": "python",
   "pygments_lexer": "ipython3",
   "version": "3.7.4"
  }
 },
 "nbformat": 4,
 "nbformat_minor": 2
}
