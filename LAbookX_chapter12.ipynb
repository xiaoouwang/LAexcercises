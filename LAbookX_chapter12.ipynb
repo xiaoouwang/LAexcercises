{
 "cells": [
  {
   "cell_type": "markdown",
   "metadata": {},
   "source": [
    "#      BOOK: Linear Algebra: Theory, Intuition, Code\n",
    "####     AUTHOR: Mike X Cohen\n",
    "####    WEBSITE: sincxpress.com\n",
    "\n",
    "##    CHAPTER: Matrix inverse (chapter 12)"
   ]
  },
  {
   "cell_type": "code",
   "execution_count": null,
   "metadata": {},
   "outputs": [],
   "source": [
    "## import libraries for the entire chapter\n",
    "import numpy as np\n",
    "import sympy as sym\n",
    "import matplotlib.pyplot as plt"
   ]
  },
  {
   "cell_type": "markdown",
   "metadata": {},
   "source": [
    "### Section 12.4, code block 12.1"
   ]
  },
  {
   "cell_type": "code",
   "execution_count": null,
   "metadata": {},
   "outputs": [],
   "source": [
    "# random invertible matrix\n",
    "A = np.random.randn(3,3)\n",
    "\n",
    "# its inverse\n",
    "Ai = np.linalg.inv(A)\n",
    "\n",
    "# should be identity\n",
    "A@Ai"
   ]
  },
  {
   "cell_type": "markdown",
   "metadata": {},
   "source": [
    "### Section 12.5, code block 12.3"
   ]
  },
  {
   "cell_type": "code",
   "execution_count": null,
   "metadata": {},
   "outputs": [],
   "source": [
    "# matrix\n",
    "A  = np.random.randn(3,3)\n",
    "\n",
    "# concatenated by identity\n",
    "Acat = np.concatenate((A,np.eye(3,3)),axis=1)\n",
    "\n",
    "# RREF (via sympy)\n",
    "Ar = sym.Matrix(Acat).rref()[0] # RREF\n",
    "\n",
    "# keep inverse\n",
    "Ar = Ar[:,3:]\n",
    "\n",
    "# numpy's inv\n",
    "Ai = np.linalg.inv(A)\n",
    "\n",
    "# compare\n",
    "Ar-Ai\n"
   ]
  },
  {
   "cell_type": "markdown",
   "metadata": {},
   "source": [
    "### Section 12.7, code block 12.5"
   ]
  },
  {
   "cell_type": "code",
   "execution_count": null,
   "metadata": {},
   "outputs": [],
   "source": [
    "# tall matrix\n",
    "A = np.random.randn(5,3)\n",
    "\n",
    "# left inverse\n",
    "Al = np.linalg.inv(A.T@A)@A.T\n",
    "\n",
    "# check for I\n",
    "Al@A"
   ]
  },
  {
   "cell_type": "markdown",
   "metadata": {},
   "source": [
    "### Section 12.8, code block 12.7"
   ]
  },
  {
   "cell_type": "code",
   "execution_count": null,
   "metadata": {},
   "outputs": [],
   "source": [
    "# reduced-rank matrix\n",
    "A = np.random.randn(3,3)\n",
    "A[1,:] = A[0,:]\n",
    "\n",
    "# pseudoinverse\n",
    "Api = np.linalg.pinv(A)\n",
    "\n",
    "# identity matrix?\n",
    "Api@A"
   ]
  },
  {
   "cell_type": "markdown",
   "metadata": {},
   "source": [
    "### Section 12.12, code block 12.9"
   ]
  },
  {
   "cell_type": "code",
   "execution_count": null,
   "metadata": {},
   "outputs": [],
   "source": [
    "\n",
    "# create matrix\n",
    "m = 4\n",
    "A = np.random.randn(m,m)\n",
    "\n",
    "# initialize\n",
    "M = np.zeros((m,m))\n",
    "G = np.zeros((m,m))\n",
    "\n",
    "# compute minors matrix\n",
    "for i in range(m):\n",
    "    for j in range(m):\n",
    "        \n",
    "        # select rows and cols\n",
    "        rows = [True]*m\n",
    "        rows[i] = False\n",
    "        \n",
    "        cols = [True]*m\n",
    "        cols[j] = False\n",
    "        \n",
    "        M[i,j]=np.linalg.det(A[rows,:][:,cols])\n",
    "        \n",
    "        # compute G\n",
    "        G[i,j] = (-1)**(i+j)\n",
    "\n",
    "        \n",
    "# compute C\n",
    "C = M * G\n",
    "\n",
    "# compute A\n",
    "Ainv = C.T / np.linalg.det(A)\n",
    "\n",
    "# 'regular' inverse function\n",
    "AinvI = np.linalg.inv(A)\n",
    "\n",
    "# compare against inv()\n",
    "AinvI-Ainv "
   ]
  },
  {
   "cell_type": "markdown",
   "metadata": {},
   "source": [
    "### Section 12.12, code block 12.11"
   ]
  },
  {
   "cell_type": "code",
   "execution_count": null,
   "metadata": {},
   "outputs": [],
   "source": [
    "# square matrix\n",
    "A   = np.random.randn(5,5)\n",
    "Ai  = np.linalg.inv(A)\n",
    "Api = np.linalg.pinv(A)\n",
    "# test equivalence\n",
    "print(Ai - Api) \n",
    "\n",
    "\n",
    "\n",
    "# tall matrix\n",
    "T   = np.random.randn(5,3)\n",
    "Tl  = np.linalg.inv(T.T@T)@T.T # left inv\n",
    "Tpi = np.linalg.pinv(T) # pinv\n",
    "# test equivalence\n",
    "print(Tl - Tpi)"
   ]
  },
  {
   "cell_type": "code",
   "execution_count": null,
   "metadata": {},
   "outputs": [],
   "source": []
  }
 ],
 "metadata": {
  "kernelspec": {
   "display_name": "Python 3",
   "language": "python",
   "name": "python3"
  },
  "language_info": {
   "codemirror_mode": {
    "name": "ipython",
    "version": 3
   },
   "file_extension": ".py",
   "mimetype": "text/x-python",
   "name": "python",
   "nbconvert_exporter": "python",
   "pygments_lexer": "ipython3",
   "version": "3.7.4"
  }
 },
 "nbformat": 4,
 "nbformat_minor": 2
}
