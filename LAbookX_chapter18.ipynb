{
 "cells": [
  {
   "cell_type": "markdown",
   "metadata": {},
   "source": [
    "#      BOOK: Linear Algebra: Theory, Intuition, Code\n",
    "####     AUTHOR: Mike X Cohen\n",
    "####    WEBSITE: sincxpress.com\n",
    "\n",
    "##    CHAPTER: Covariance matrices (chapter 18)"
   ]
  },
  {
   "cell_type": "code",
   "execution_count": null,
   "metadata": {},
   "outputs": [],
   "source": [
    "## import libraries for the entire chapter\n",
    "import numpy as np"
   ]
  },
  {
   "cell_type": "markdown",
   "metadata": {},
   "source": [
    "### Section 18.8, code block 18.2"
   ]
  },
  {
   "cell_type": "code",
   "execution_count": null,
   "metadata": {},
   "outputs": [],
   "source": [
    "# create data\n",
    "n = 200\n",
    "X = np.random.randn(n,4)\n",
    "\n",
    "# mean-center\n",
    "X = X-np.mean(X,axis=0) \n",
    "\n",
    "# covariance\n",
    "covM = X.T@X / (n-1) \n",
    "\n",
    "# standard deviations matrix\n",
    "stdM = np.linalg.inv( np.diag(np.std(X,axis=0,ddof=1)) )\n",
    "\n",
    "# \"manual\" correlation matrix\n",
    "corM = stdM@ X.T@X @stdM / (n-1) \n",
    "\n",
    "# compare ours against numpy's\n",
    "print(np.round(covM-np.cov(X.T),3)), print(' ')\n",
    "print(np.round(corM-np.corrcoef(X.T),3))"
   ]
  },
  {
   "cell_type": "code",
   "execution_count": null,
   "metadata": {},
   "outputs": [],
   "source": []
  }
 ],
 "metadata": {
  "kernelspec": {
   "display_name": "Python 3",
   "language": "python",
   "name": "python3"
  },
  "language_info": {
   "codemirror_mode": {
    "name": "ipython",
    "version": 3
   },
   "file_extension": ".py",
   "mimetype": "text/x-python",
   "name": "python",
   "nbconvert_exporter": "python",
   "pygments_lexer": "ipython3",
   "version": "3.7.4"
  }
 },
 "nbformat": 4,
 "nbformat_minor": 2
}
