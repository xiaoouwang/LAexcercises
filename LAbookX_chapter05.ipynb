{
 "cells": [
  {
   "cell_type": "markdown",
   "metadata": {},
   "source": [
    "#      BOOK: Linear Algebra: Theory, Intuition, Code\n",
    "####     AUTHOR: Mike X Cohen\n",
    "####    WEBSITE: sincxpress.com\n",
    "\n",
    "##    CHAPTER: Matrices (chapter 5)\n"
   ]
  },
  {
   "cell_type": "code",
   "execution_count": null,
   "metadata": {},
   "outputs": [],
   "source": [
    "## import libraries for the entire chapter\n",
    "import numpy as np\n",
    "from scipy.linalg import hankel,toeplitz"
   ]
  },
  {
   "cell_type": "markdown",
   "metadata": {},
   "source": [
    "### Section 5.4, code block 5.1"
   ]
  },
  {
   "cell_type": "code",
   "execution_count": null,
   "metadata": {},
   "outputs": [],
   "source": [
    "# a matrix\n",
    "A = np.random.randn(2,5)\n",
    "\n",
    "# two ways to transpose\n",
    "At1 = A.T\n",
    "At2 = np.transpose(A)"
   ]
  },
  {
   "cell_type": "markdown",
   "metadata": {},
   "source": [
    "### Section 5.5, code block 5.3"
   ]
  },
  {
   "cell_type": "code",
   "execution_count": null,
   "metadata": {},
   "outputs": [],
   "source": [
    "# identity matrix\n",
    "I = np.eye(4)\n",
    "\n",
    "# ones matrix\n",
    "O = np.ones(4)\n",
    "\n",
    "# zeros matrix (note the tuple input)\n",
    "Z = np.zeros((4,4))"
   ]
  },
  {
   "cell_type": "markdown",
   "metadata": {},
   "source": [
    "### Section 5.5, code block 5.5"
   ]
  },
  {
   "cell_type": "code",
   "execution_count": null,
   "metadata": {},
   "outputs": [],
   "source": [
    "# diagonal matrix\n",
    "D = np.diag([1,2,3,5]) \n",
    "\n",
    "# diagonal elements\n",
    "R = np.random.randn(3,4)\n",
    "d = np.diag(R) "
   ]
  },
  {
   "cell_type": "markdown",
   "metadata": {},
   "source": [
    "### Section 5.5, code block 5.7"
   ]
  },
  {
   "cell_type": "code",
   "execution_count": null,
   "metadata": {},
   "outputs": [],
   "source": [
    "# two matrices\n",
    "A = np.random.randn(3,5)\n",
    "B = np.random.randn(3,4)\n",
    "\n",
    "# augmenting\n",
    "AB = np.concatenate((A,B),axis=1)"
   ]
  },
  {
   "cell_type": "markdown",
   "metadata": {},
   "source": [
    "### Section 5.5, code block 5.9"
   ]
  },
  {
   "cell_type": "code",
   "execution_count": null,
   "metadata": {},
   "outputs": [],
   "source": [
    "# matrix\n",
    "A = np.random.randn(5,5)\n",
    "\n",
    "# extract the lower triangle\n",
    "L = np.tril(A)\n",
    "\n",
    "# extract the upper triangle\n",
    "U = np.triu(A)"
   ]
  },
  {
   "cell_type": "markdown",
   "metadata": {},
   "source": [
    "### Section 5.5, code block 5.11"
   ]
  },
  {
   "cell_type": "code",
   "execution_count": null,
   "metadata": {},
   "outputs": [],
   "source": [
    "# the vector\n",
    "t = [1,2,3,4]\n",
    "\n",
    "# the matrices (functions imported from scipy at top of script)\n",
    "T = toeplitz(t)\n",
    "H = hankel(t,r=[2,3,4,1])"
   ]
  },
  {
   "cell_type": "markdown",
   "metadata": {},
   "source": [
    "### Section 5.8, code block 5.13"
   ]
  },
  {
   "cell_type": "code",
   "execution_count": null,
   "metadata": {},
   "outputs": [],
   "source": [
    "# lambda\n",
    "l = .01\n",
    "\n",
    "# I\n",
    "I = np.eye(4)\n",
    "\n",
    "# the shifted matrix\n",
    "A = np.random.randn(4,4)\n",
    "As = A + l*I"
   ]
  },
  {
   "cell_type": "markdown",
   "metadata": {},
   "source": [
    "### Section 5.9, code block 5.15"
   ]
  },
  {
   "cell_type": "code",
   "execution_count": null,
   "metadata": {},
   "outputs": [],
   "source": [
    "A = np.random.randn(4,4)\n",
    "tr = np.trace(A)"
   ]
  },
  {
   "cell_type": "markdown",
   "metadata": {},
   "source": [
    "### Section 5.13, code block 5.17"
   ]
  },
  {
   "cell_type": "code",
   "execution_count": null,
   "metadata": {},
   "outputs": [],
   "source": [
    "# two matrices\n",
    "A = np.random.randn(4,2)\n",
    "B = np.random.randn(4,2)\n",
    "\n",
    "# initialize the output\n",
    "C = np.zeros((2,2))\n",
    "\n",
    "# loop over columns and compute dot products\n",
    "for coli in range(2):\n",
    "    for colj in range(2):\n",
    "        C[coli,colj] = np.dot(A[:,coli],B[:,colj])"
   ]
  },
  {
   "cell_type": "markdown",
   "metadata": {},
   "source": [
    "### Section 5.13, code block 5.19"
   ]
  },
  {
   "cell_type": "code",
   "execution_count": null,
   "metadata": {},
   "outputs": [],
   "source": [
    "# a full matrix\n",
    "A = np.random.randn(4,4)\n",
    "\n",
    "# get its lower triangle\n",
    "Al = np.tril(A)\n",
    "\n",
    "# add it to its transpose\n",
    "S = Al + Al.T"
   ]
  },
  {
   "cell_type": "markdown",
   "metadata": {},
   "source": [
    "### Section 5.13, code block 5.21"
   ]
  },
  {
   "cell_type": "code",
   "execution_count": null,
   "metadata": {},
   "outputs": [],
   "source": [
    "# initialize\n",
    "D = np.zeros((4,8))\n",
    "\n",
    "# loop over smaller dimension\n",
    "for d in range(min(D.shape)):\n",
    "    D[d,d] = d+1"
   ]
  },
  {
   "cell_type": "code",
   "execution_count": null,
   "metadata": {},
   "outputs": [],
   "source": []
  }
 ],
 "metadata": {
  "kernelspec": {
   "display_name": "Python 3",
   "language": "python",
   "name": "python3"
  },
  "language_info": {
   "codemirror_mode": {
    "name": "ipython",
    "version": 3
   },
   "file_extension": ".py",
   "mimetype": "text/x-python",
   "name": "python",
   "nbconvert_exporter": "python",
   "pygments_lexer": "ipython3",
   "version": "3.7.4"
  }
 },
 "nbformat": 4,
 "nbformat_minor": 2
}
